{
  "nbformat": 4,
  "nbformat_minor": 0,
  "metadata": {
    "colab": {
      "provenance": []
    },
    "kernelspec": {
      "name": "python3",
      "display_name": "Python 3"
    },
    "language_info": {
      "name": "python"
    }
  },
  "cells": [
    {
      "cell_type": "code",
      "execution_count": 3,
      "metadata": {
        "colab": {
          "base_uri": "https://localhost:8080/"
        },
        "id": "0F01AAOpuuKc",
        "outputId": "b5e4b4d4-8eb3-4bc1-e065-b6fe0ea04fab"
      },
      "outputs": [
        {
          "output_type": "stream",
          "name": "stdout",
          "text": [
            "     Player  PredictedRank\n",
            "0  Player F      -0.244947\n",
            "1  Player G       4.041645\n"
          ]
        }
      ],
      "source": [
        "import pandas as pd\n",
        "from sklearn.linear_model import LinearRegression\n",
        "\n",
        "data = {'Player': ['Player A', 'Player B', 'Player C', 'Player D', 'Player E'],\n",
        "        'MatchesPlayed': [10, 12, 8, 15, 11],\n",
        "        'Runs': [500, 650, 400, 700, 550],\n",
        "        'BattingAvg': [50.0, 54.17, 50.0, 46.67, 50.0],\n",
        "        'Wickets': [5, 10, 3, 8, 6],\n",
        "        'BowlingAvg': [30.0, 25.0, 40.0, 35.0, 32.0],\n",
        "        'StrikeRate': [100.0, 110.0, 90.0, 105.0, 95.0],\n",
        "        'CurrentRank': [5, 3, 8, 2, 6]}\n",
        "df = pd.DataFrame(data)\n",
        "\n",
        "features = ['MatchesPlayed', 'Runs', 'BattingAvg', 'Wickets', 'BowlingAvg', 'StrikeRate']\n",
        "target = 'CurrentRank'\n",
        "\n",
        "X = df[features]\n",
        "y = df[target]\n",
        "\n",
        "model = LinearRegression()\n",
        "model.fit(X, y)\n",
        "\n",
        "future_performance_data = {'Player': ['Player F', 'Player G'],\n",
        "                           'MatchesPlayed': [18, 14],\n",
        "                           'Runs': [800, 700],\n",
        "                           'BattingAvg': [55.0, 50.0],\n",
        "                           'Wickets': [12, 9],\n",
        "                           'BowlingAvg': [22.0, 28.0],\n",
        "                           'StrikeRate': [120.0, 100.0]}\n",
        "future_df = pd.DataFrame(future_performance_data)\n",
        "\n",
        "future_X = future_df[features]\n",
        "\n",
        "predicted_ranks = model.predict(future_X)\n",
        "\n",
        "future_df['PredictedRank'] = predicted_ranks\n",
        "\n",
        "print(future_df[['Player', 'PredictedRank']])\n"
      ]
    },
    {
      "cell_type": "code",
      "source": [
        "from sklearn.tree import DecisionTreeRegressor\n",
        "\n",
        "model = DecisionTreeRegressor(random_state=42)\n",
        "\n",
        "model.fit(X, y)\n",
        "\n",
        "predicted_ranks = model.predict(future_X)\n",
        "\n",
        "future_df['PredictedRank'] = predicted_ranks\n",
        "\n",
        "print(future_df[['Player', 'PredictedRank']])\n"
      ],
      "metadata": {
        "colab": {
          "base_uri": "https://localhost:8080/"
        },
        "id": "dU2ahKZX0gJU",
        "outputId": "20c430fe-f03e-4d17-a1d1-700ec6931a02"
      },
      "execution_count": 5,
      "outputs": [
        {
          "output_type": "stream",
          "name": "stdout",
          "text": [
            "     Player  PredictedRank\n",
            "0  Player F            2.0\n",
            "1  Player G            2.0\n"
          ]
        }
      ]
    },
    {
      "cell_type": "code",
      "source": [
        "import pandas as pd\n",
        "from sklearn.linear_model import LinearRegression\n",
        "from sklearn.tree import DecisionTreeRegressor\n",
        "from sklearn.preprocessing import StandardScaler\n",
        "from sklearn.model_selection import train_test_split\n",
        "\n",
        "data = {'Player': ['Player A', 'Player B', 'Player C', 'Player D', 'Player E', 'Player F', 'Player G', 'Player H', 'Player I', 'Player J', 'Player K', 'Player L', 'Player M', 'Player N', 'Player O'],\n",
        "        'MatchesPlayed': [10, 12, 8, 15, 11, 18, 14, 20, 5, 10, 16, 13, 9, 7, 22],\n",
        "        'Runs': [500, 650, 400, 700, 550, 800, 700, 900, 200, 500, 750, 600, 450, 350, 1000],\n",
        "        'BattingAvg': [50.0, 54.17, 50.0, 46.67, 50.0, 55.0, 50.0, 60.0, 40.0, 50.0, 48.0, 46.0, 50.0, 50.0, 45.0],\n",
        "        'Wickets': [5, 10, 3, 8, 6, 12, 9, 15, 1, 5, 10, 7, 4, 2, 18],\n",
        "        'BowlingAvg': [30.0, 25.0, 40.0, 35.0, 32.0, 22.0, 28.0, 20.0, 50.0, 30.0, 26.0, 33.0, 38.0, 45.0, 18.0],\n",
        "        'StrikeRate': [100.0, 110.0, 90.0, 105.0, 95.0, 120.0, 100.0, 130.0, 80.0, 100.0, 115.0, 102.0, 92.0, 85.0, 140.0],\n",
        "        'CurrentRank': [5, 3, 8, 2, 6, 1, 4, 1, 10, 5, 3, 6, 9, 11, 1]}  # Introducing imbalance in CurrentRank\n",
        "df = pd.DataFrame(data)\n",
        "\n",
        "features = ['MatchesPlayed', 'Runs', 'BattingAvg', 'Wickets', 'BowlingAvg', 'StrikeRate']\n",
        "target = 'CurrentRank'\n",
        "\n",
        "X = df[features]\n",
        "y = df[target]\n",
        "\n",
        "# Preprocessing: Scaling features\n",
        "scaler = StandardScaler()\n",
        "X_scaled = scaler.fit_transform(X)\n",
        "\n",
        "# X_train, X_test, y_train, y_test = train_test_split(X_scaled, y, test_size=0.2, random_state=42)\n",
        "\n",
        "model = LinearRegression()\n",
        "model.fit(X_scaled, y)\n",
        "\n",
        "future_performance_data = {'Player': ['Player P', 'Player Q'],\n",
        "                           'MatchesPlayed': [19, 15],\n",
        "                           'Runs': [850, 720],\n",
        "                           'BattingAvg': [56.0, 51.0],\n",
        "                           'Wickets': [13, 10],\n",
        "                           'BowlingAvg': [21.0, 27.0],\n",
        "                           'StrikeRate': [125.0, 105.0]}\n",
        "future_df = pd.DataFrame(future_performance_data)\n",
        "\n",
        "future_X = future_df[features]\n",
        "\n",
        "# Preprocess future data same scalars\n",
        "future_X_scaled = scaler.transform(future_X)\n",
        "\n",
        "predicted_ranks_lr = model.predict(future_X_scaled)\n",
        "\n",
        "future_df['PredictedRank_LR'] = predicted_ranks_lr\n",
        "\n",
        "print(\"Linear Regression Predictions:\")\n",
        "print(future_df[['Player', 'PredictedRank_LR']])\n",
        "\n",
        "\n",
        "model_dt = DecisionTreeRegressor(random_state=42)\n",
        "\n",
        "model_dt.fit(X_scaled, y)\n",
        "\n",
        "predicted_ranks_dt = model_dt.predict(future_X_scaled)\n",
        "\n",
        "future_df['PredictedRank_DT'] = predicted_ranks_dt\n",
        "\n",
        "print(\"\\nDecision Tree Regression Predictions:\")\n",
        "print(future_df[['Player', 'PredictedRank_DT']])\n"
      ],
      "metadata": {
        "colab": {
          "base_uri": "https://localhost:8080/"
        },
        "id": "njCt83EF1zP9",
        "outputId": "f9acb87d-7a31-4d94-adf2-271e7528a1f1"
      },
      "execution_count": 8,
      "outputs": [
        {
          "output_type": "stream",
          "name": "stdout",
          "text": [
            "Linear Regression Predictions:\n",
            "     Player  PredictedRank_LR\n",
            "0  Player P          1.186561\n",
            "1  Player Q          3.432928\n",
            "\n",
            "Decision Tree Regression Predictions:\n",
            "     Player  PredictedRank_DT\n",
            "0  Player P               1.0\n",
            "1  Player Q               2.0\n"
          ]
        }
      ]
    },
    {
      "cell_type": "code",
      "source": [
        "for index, row in df.iterrows():\n",
        "  player_data = row[features].values.reshape(1, -1)\n",
        "  player_data_scaled = scaler.transform(player_data)\n",
        "\n",
        "  predicted_rank_lr = model.predict(player_data_scaled)[0]\n",
        "  predicted_rank_dt = model_dt.predict(player_data_scaled)[0]\n",
        "\n",
        "  print(f\"Player: {row['Player']}, Predicted Rank (LR): {predicted_rank_lr:.2f}, Predicted Rank (DT): {predicted_rank_dt:.2f}\")"
      ],
      "metadata": {
        "colab": {
          "base_uri": "https://localhost:8080/"
        },
        "id": "BMSe1rRR2pcO",
        "outputId": "05c6dd5c-9615-42d1-f30b-968185d8cd36"
      },
      "execution_count": 9,
      "outputs": [
        {
          "output_type": "stream",
          "name": "stdout",
          "text": [
            "Player: Player A, Predicted Rank (LR): 5.36, Predicted Rank (DT): 5.00\n",
            "Player: Player B, Predicted Rank (LR): 4.38, Predicted Rank (DT): 3.00\n",
            "Player: Player C, Predicted Rank (LR): 8.05, Predicted Rank (DT): 8.00\n",
            "Player: Player D, Predicted Rank (LR): 4.49, Predicted Rank (DT): 2.00\n",
            "Player: Player E, Predicted Rank (LR): 5.50, Predicted Rank (DT): 6.00\n",
            "Player: Player F, Predicted Rank (LR): 1.68, Predicted Rank (DT): 1.00\n",
            "Player: Player G, Predicted Rank (LR): 3.76, Predicted Rank (DT): 4.00\n",
            "Player: Player H, Predicted Rank (LR): 1.07, Predicted Rank (DT): 1.00\n",
            "Player: Player I, Predicted Rank (LR): 11.26, Predicted Rank (DT): 10.00\n",
            "Player: Player J, Predicted Rank (LR): 5.36, Predicted Rank (DT): 5.00\n",
            "Player: Player K, Predicted Rank (LR): 2.62, Predicted Rank (DT): 3.00\n",
            "Player: Player L, Predicted Rank (LR): 4.94, Predicted Rank (DT): 6.00\n",
            "Player: Player M, Predicted Rank (LR): 7.34, Predicted Rank (DT): 9.00\n",
            "Player: Player N, Predicted Rank (LR): 9.40, Predicted Rank (DT): 11.00\n",
            "Player: Player O, Predicted Rank (LR): -0.20, Predicted Rank (DT): 1.00\n"
          ]
        },
        {
          "output_type": "stream",
          "name": "stderr",
          "text": [
            "/usr/local/lib/python3.11/dist-packages/sklearn/utils/validation.py:2739: UserWarning: X does not have valid feature names, but StandardScaler was fitted with feature names\n",
            "  warnings.warn(\n",
            "/usr/local/lib/python3.11/dist-packages/sklearn/utils/validation.py:2739: UserWarning: X does not have valid feature names, but StandardScaler was fitted with feature names\n",
            "  warnings.warn(\n",
            "/usr/local/lib/python3.11/dist-packages/sklearn/utils/validation.py:2739: UserWarning: X does not have valid feature names, but StandardScaler was fitted with feature names\n",
            "  warnings.warn(\n",
            "/usr/local/lib/python3.11/dist-packages/sklearn/utils/validation.py:2739: UserWarning: X does not have valid feature names, but StandardScaler was fitted with feature names\n",
            "  warnings.warn(\n",
            "/usr/local/lib/python3.11/dist-packages/sklearn/utils/validation.py:2739: UserWarning: X does not have valid feature names, but StandardScaler was fitted with feature names\n",
            "  warnings.warn(\n",
            "/usr/local/lib/python3.11/dist-packages/sklearn/utils/validation.py:2739: UserWarning: X does not have valid feature names, but StandardScaler was fitted with feature names\n",
            "  warnings.warn(\n",
            "/usr/local/lib/python3.11/dist-packages/sklearn/utils/validation.py:2739: UserWarning: X does not have valid feature names, but StandardScaler was fitted with feature names\n",
            "  warnings.warn(\n",
            "/usr/local/lib/python3.11/dist-packages/sklearn/utils/validation.py:2739: UserWarning: X does not have valid feature names, but StandardScaler was fitted with feature names\n",
            "  warnings.warn(\n",
            "/usr/local/lib/python3.11/dist-packages/sklearn/utils/validation.py:2739: UserWarning: X does not have valid feature names, but StandardScaler was fitted with feature names\n",
            "  warnings.warn(\n",
            "/usr/local/lib/python3.11/dist-packages/sklearn/utils/validation.py:2739: UserWarning: X does not have valid feature names, but StandardScaler was fitted with feature names\n",
            "  warnings.warn(\n",
            "/usr/local/lib/python3.11/dist-packages/sklearn/utils/validation.py:2739: UserWarning: X does not have valid feature names, but StandardScaler was fitted with feature names\n",
            "  warnings.warn(\n",
            "/usr/local/lib/python3.11/dist-packages/sklearn/utils/validation.py:2739: UserWarning: X does not have valid feature names, but StandardScaler was fitted with feature names\n",
            "  warnings.warn(\n",
            "/usr/local/lib/python3.11/dist-packages/sklearn/utils/validation.py:2739: UserWarning: X does not have valid feature names, but StandardScaler was fitted with feature names\n",
            "  warnings.warn(\n",
            "/usr/local/lib/python3.11/dist-packages/sklearn/utils/validation.py:2739: UserWarning: X does not have valid feature names, but StandardScaler was fitted with feature names\n",
            "  warnings.warn(\n",
            "/usr/local/lib/python3.11/dist-packages/sklearn/utils/validation.py:2739: UserWarning: X does not have valid feature names, but StandardScaler was fitted with feature names\n",
            "  warnings.warn(\n"
          ]
        }
      ]
    },
    {
      "cell_type": "code",
      "source": [],
      "metadata": {
        "id": "Bk6PX8uN333m"
      },
      "execution_count": null,
      "outputs": []
    }
  ]
}